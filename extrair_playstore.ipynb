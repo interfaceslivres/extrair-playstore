{
  "nbformat": 4,
  "nbformat_minor": 0,
  "metadata": {
    "colab": {
      "provenance": []
    },
    "kernelspec": {
      "name": "python3",
      "display_name": "Python 3"
    },
    "language_info": {
      "name": "python"
    }
  },
  "cells": [
    {
      "cell_type": "code",
      "execution_count": 2,
      "metadata": {
        "colab": {
          "base_uri": "https://localhost:8080/"
        },
        "id": "JykiOZrwXUvW",
        "outputId": "0dd368a9-3438-4692-8058-2b60e71fd270"
      },
      "outputs": [
        {
          "output_type": "stream",
          "name": "stdout",
          "text": [
            "Collecting google-play-scraper\n",
            "  Downloading google_play_scraper-1.2.7-py3-none-any.whl.metadata (50 kB)\n",
            "\u001b[?25l     \u001b[90m━━━━━━━━━━━━━━━━━━━━━━━━━━━━━━━━━━━━━━━━\u001b[0m \u001b[32m0.0/50.2 kB\u001b[0m \u001b[31m?\u001b[0m eta \u001b[36m-:--:--\u001b[0m\r\u001b[2K     \u001b[90m━━━━━━━━━━━━━━━━━━━━━━━━━━━━━━━━━━━━━━━━\u001b[0m \u001b[32m50.2/50.2 kB\u001b[0m \u001b[31m1.9 MB/s\u001b[0m eta \u001b[36m0:00:00\u001b[0m\n",
            "\u001b[?25hDownloading google_play_scraper-1.2.7-py3-none-any.whl (28 kB)\n",
            "Installing collected packages: google-play-scraper\n",
            "Successfully installed google-play-scraper-1.2.7\n"
          ]
        }
      ],
      "source": [
        "pip install google-play-scraper"
      ]
    },
    {
      "cell_type": "code",
      "source": [
        "import csv\n",
        "from google_play_scraper import Sort, reviews_all\n",
        "\n",
        "# ID do aplicativo (exemplo: 'com.spotify.music' para o aplicativo Spotify)\n",
        "app_id = 'com.luizalabs.mlapp'\n",
        "\n",
        "# Busca todas as avaliações do aplicativo especificado\n",
        "avaliacoes = reviews_all(\n",
        "    app_id,\n",
        "    sleep_milliseconds=0, # Intervalo entre cada requisição. Pode ser ajustado para evitar bloqueios.\n",
        "    lang='pt', # Idioma das avaliações\n",
        "    country='br', # País das avaliações\n",
        "    sort=Sort.NEWEST, # Ordenação das avaliações\n",
        ")\n",
        "\n",
        "# Nome do arquivo CSV para salvar as avaliações\n",
        "nome_arquivo_csv = 'avaliacoes-mglu3.csv'\n",
        "\n",
        "# Salvando as avaliações em um arquivo CSV\n",
        "with open(nome_arquivo_csv, mode='w', encoding='utf-8-sig', newline='') as arquivo:  # Use utf-8-sig encoding for emojis\n",
        "    escritor_csv = csv.writer(arquivo, delimiter=',', quotechar='\"', quoting=csv.QUOTE_MINIMAL, escapechar='\\\\')\n",
        "    escritor_csv.writerow(['userName', 'userImage', 'content', 'score', 'thumbsUpCount', 'reviewCreatedVersion', 'at', 'replyContent', 'repliedAt'])\n",
        "\n",
        "    for avaliacao in avaliacoes:\n",
        "        # Ensure all fields are strings to avoid encoding issues\n",
        "        avaliacao_str = {k: str(v) for k, v in avaliacao.items()}\n",
        "\n",
        "        escritor_csv.writerow([avaliacao_str['userName'], avaliacao_str['userImage'], avaliacao_str['content'], avaliacao_str['score'], avaliacao_str['thumbsUpCount'], avaliacao_str['reviewCreatedVersion'], avaliacao_str['at'], avaliacao_str['replyContent'], avaliacao_str['repliedAt']])"
      ],
      "metadata": {
        "id": "fRolo0lfXdhX"
      },
      "execution_count": 5,
      "outputs": []
    }
  ]
}