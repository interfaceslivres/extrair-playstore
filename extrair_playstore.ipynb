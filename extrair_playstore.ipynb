{
  "nbformat": 4,
  "nbformat_minor": 0,
  "metadata": {
    "colab": {
      "provenance": []
    },
    "kernelspec": {
      "name": "python3",
      "display_name": "Python 3"
    },
    "language_info": {
      "name": "python"
    }
  },
  "cells": [
    {
      "cell_type": "markdown",
      "source": [
        "# 📱 Coletor de Avaliações da Play Store\n",
        "\n",
        "Um script para extrair avaliações de qualquer aplicativo da Google Play Store e salvar em CSV.\n",
        "\n",
        "**Como usar:**\n",
        "1. Execute cada célula em ordem (play ▶️)\n",
        "2. Insira o ID do app quando solicitado\n",
        "3. Baixe o arquivo CSV gerado"
      ],
      "metadata": {
        "id": "DBix8QoxgoyB"
      }
    },
    {
      "cell_type": "code",
      "execution_count": 9,
      "metadata": {
        "colab": {
          "base_uri": "https://localhost:8080/"
        },
        "id": "JykiOZrwXUvW",
        "outputId": "b7955d2a-15e9-46cc-bf03-7d39a7a9fe98"
      },
      "outputs": [
        {
          "output_type": "stream",
          "name": "stdout",
          "text": [
            "Requirement already satisfied: google-play-scraper in /usr/local/lib/python3.11/dist-packages (1.2.7)\n"
          ]
        }
      ],
      "source": [
        "#@title 🔧 Instalação do Pacote Necessário\n",
        "!pip install google-play-scraper"
      ]
    },
    {
      "cell_type": "markdown",
      "source": [
        "## 🔍 Onde encontrar o ID do aplicativo?\n",
        "\n",
        "1. Acesse a página do app na Play Store ([exemplo](https://play.google.com/store/apps/details?id=com.spotify.music))\n",
        "2. Na URL, copie o texto depois de `id=` e antes de `&hl=pt_BR` : https://play.google.com/store/apps/details?id=SEU_ID_AQUI&hl=pt_BR\n",
        "3. Cole no campo de input abaixo (ex: `com.whatsapp`)\n",
        "\n"
      ],
      "metadata": {
        "id": "_zInMQTYfRnF"
      }
    },
    {
      "cell_type": "code",
      "source": [
        "#@title 🚀 Insira o ID do aplicativo\n",
        "import csv\n",
        "from google_play_scraper import Sort, reviews_all\n",
        "\n",
        "print(\"\\n\" + \"=\" * 75)\n",
        "print(\"INSIRA O ID DO APP NA PLAY STORE\".center(75))\n",
        "print(\"=\" * 75)\n",
        "app_id = input(\"👉 Escreva o ID no campo ao lado e pressione Enter: \").strip()\n",
        "print(\"\\n Concluído, inicie a coleta na célula abaixo. ▶️\\n\")"
      ],
      "metadata": {
        "colab": {
          "base_uri": "https://localhost:8080/"
        },
        "id": "bZeTV9eFhHCp",
        "outputId": "5dfb8448-5e9a-467c-8002-7b8140b43dc8"
      },
      "execution_count": 20,
      "outputs": [
        {
          "output_type": "stream",
          "name": "stdout",
          "text": [
            "\n",
            "===========================================================================\n",
            "                      INSIRA O ID DO APP NA PLAY STORE                     \n",
            "===========================================================================\n",
            "👉 Escreva o ID no campo ao lado e pressione Enter: com.einnovation.temu\n",
            "\n",
            "✅ Feito, inicie a coleta na célula abaixo.\n",
            "\n"
          ]
        }
      ]
    },
    {
      "cell_type": "code",
      "source": [
        "#@title 📊 Coletando Avaliações\n",
        "print(\"\\n⏳ Buscando avaliações... Aguarde...\\n\")\n",
        "\n",
        "avaliacoes = reviews_all(\n",
        "    app_id,\n",
        "    sleep_milliseconds=1,\n",
        "    lang='pt',\n",
        "    country='br',\n",
        "    sort=Sort.NEWEST,\n",
        ")\n",
        "\n",
        "nome_arquivo_csv = f'avaliacoes_{app_id.replace(\".\", \"_\")}.csv'  # Nome personalizado\n",
        "\n",
        "print(\"\\n Concluído, salve os dados na célula abaixo. ▶️\\n\")"
      ],
      "metadata": {
        "colab": {
          "base_uri": "https://localhost:8080/"
        },
        "id": "3Co6SchnhJRZ",
        "outputId": "8fe631b8-651b-4fca-d764-01557124be66"
      },
      "execution_count": 23,
      "outputs": [
        {
          "output_type": "stream",
          "name": "stdout",
          "text": [
            "\n",
            "⏳ Buscando avaliações... Aguarde...\n",
            "\n",
            "\n",
            "✅ Concluído, salve os dados na célula abaixo.\n",
            "\n"
          ]
        }
      ]
    },
    {
      "cell_type": "code",
      "source": [
        "#@title 💾 Salvando em CSV\n",
        "with open(nome_arquivo_csv, mode='w', encoding='utf-8-sig', newline='') as arquivo:\n",
        "    escritor_csv = csv.writer(arquivo, delimiter=',', quotechar='\"', quoting=csv.QUOTE_MINIMAL, escapechar='\\\\')\n",
        "    escritor_csv.writerow(['userName', 'userImage', 'content', 'score', 'thumbsUpCount', 'reviewCreatedVersion', 'at', 'replyContent', 'repliedAt'])\n",
        "\n",
        "    for avaliacao in avaliacoes:\n",
        "        avaliacao_str = {k: str(v) for k, v in avaliacao.items()}\n",
        "        escritor_csv.writerow([avaliacao_str['userName'], avaliacao_str['userImage'], avaliacao_str['content'], avaliacao_str['score'], avaliacao_str['thumbsUpCount'], avaliacao_str['reviewCreatedVersion'], avaliacao_str['at'], avaliacao_str['replyContent'], avaliacao_str['repliedAt']])\n",
        "\n",
        "print(f\"✅ Pronto! Arquivo salvo como: '{nome_arquivo_csv}'\")"
      ],
      "metadata": {
        "colab": {
          "base_uri": "https://localhost:8080/"
        },
        "id": "Bia8taYRhUio",
        "outputId": "22f9322c-fee8-4f30-f05b-5ffd595455cc"
      },
      "execution_count": 24,
      "outputs": [
        {
          "output_type": "stream",
          "name": "stdout",
          "text": [
            "✅ Pronto! Arquivo salvo como: 'avaliacoes_com_einnovation_temu.csv'\n",
            "👉 Clique no ícone de pasta 📁 à esquerda para visualizar!\n"
          ]
        }
      ]
    },
    {
      "cell_type": "markdown",
      "source": [
        "## 📌 Baixar o Arquivo\n",
        "\n",
        "1. **Localize o arquivo** no menu lateral esquerdo (ícone de pasta)\n",
        "2. **Clique com o botão direito** no arquivo CSV → \"Fazer Download\"\n",
        "3. **Analise os dados** no Excel/Google Sheets ou com Python/Pandas\n",
        "\n",
        "> ✨ **Dica avançada:** Quer filtrar só avaliações ruins? Adicione `score=1` no parâmetro `reviews_all()`!\n"
      ],
      "metadata": {
        "id": "1rsQ65cuhbjY"
      }
    }
  ]
}