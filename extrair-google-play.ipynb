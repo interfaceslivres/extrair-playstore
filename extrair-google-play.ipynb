{
 "cells": [
  {
   "cell_type": "code",
   "execution_count": 1,
   "id": "3f8b57fe-f527-49e8-9c7b-052409997edf",
   "metadata": {},
   "outputs": [
    {
     "name": "stdout",
     "output_type": "stream",
     "text": [
      "Defaulting to user installation because normal site-packages is not writeable\n",
      "Collecting google-play-scraper\n",
      "  Downloading google_play_scraper-1.2.6-py3-none-any.whl (28 kB)\n",
      "Installing collected packages: google-play-scraper\n",
      "Successfully installed google-play-scraper-1.2.6\n",
      "Note: you may need to restart the kernel to use updated packages.\n"
     ]
    }
   ],
   "source": [
    "pip install google-play-scraper"
   ]
  },
  {
   "cell_type": "code",
   "execution_count": 1,
   "id": "13d2ec45-1ea5-4f3f-a537-8b2a53c8eee3",
   "metadata": {},
   "outputs": [],
   "source": [
    "import csv\n",
    "from google_play_scraper import Sort, reviews_all\n",
    "\n",
    "# ID do aplicativo (exemplo: 'com.spotify.music' para o aplicativo Spotify)\n",
    "app_id = 'br.gov.meugovbr'\n",
    "\n",
    "# Busca todas as avaliações do aplicativo especificado\n",
    "avaliacoes = reviews_all(\n",
    "    app_id,\n",
    "    sleep_milliseconds=0, # Intervalo entre cada requisição. Pode ser ajustado para evitar bloqueios.\n",
    "    lang='pt', # Idioma das avaliações\n",
    "    country='br', # País das avaliações\n",
    "    sort=Sort.NEWEST, # Ordenação das avaliações\n",
    ")\n",
    "\n",
    "# Nome do arquivo CSV para salvar as avaliações\n",
    "nome_arquivo_csv = 'avaliacoes.csv'\n",
    "\n",
    "# Salvando as avaliações em um arquivo CSV\n",
    "with open(nome_arquivo_csv, mode='w', encoding='utf-8', newline='') as arquivo:\n",
    "    escritor_csv = csv.writer(arquivo, delimiter=',', quotechar='\"', quoting=csv.QUOTE_MINIMAL)\n",
    "    escritor_csv.writerow(['userName', 'userImage', 'content', 'score', 'thumbsUpCount', 'reviewCreatedVersion', 'at', 'replyContent', 'repliedAt'])\n",
    "    \n",
    "    for avaliacao in avaliacoes:\n",
    "        escritor_csv.writerow([avaliacao['userName'], avaliacao['userImage'], avaliacao['content'], avaliacao['score'], avaliacao['thumbsUpCount'], avaliacao['reviewCreatedVersion'], avaliacao['at'], avaliacao['replyContent'], avaliacao['repliedAt']])"
   ]
  }
 ],
 "metadata": {
  "kernelspec": {
   "display_name": "Python 3 (ipykernel)",
   "language": "python",
   "name": "python3"
  },
  "language_info": {
   "codemirror_mode": {
    "name": "ipython",
    "version": 3
   },
   "file_extension": ".py",
   "mimetype": "text/x-python",
   "name": "python",
   "nbconvert_exporter": "python",
   "pygments_lexer": "ipython3",
   "version": "3.10.9"
  }
 },
 "nbformat": 4,
 "nbformat_minor": 5
}
